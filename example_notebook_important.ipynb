{
 "cells": [
  {
   "cell_type": "code",
   "execution_count": null,
   "metadata": {},
   "outputs": [],
   "source": [
    "from oai_tool import tool\n",
    "from typing import Annotated\n",
    "from pydantic import Field\n",
    "from enum import Enum\n",
    "import json\n",
    "import openai\n",
    "from dotenv import load_dotenv\n",
    "import os\n",
    "\n",
    "load_dotenv()\n",
    "OPENAI_API_KEY = os.getenv(\"OPENAI_API_KEY\") \n",
    "client = openai.OpenAI(api_key=OPENAI_API_KEY)\n",
    "GPT_MODEL = \"gpt-4o\"\n",
    "\n",
    "def chat_completion_request(messages, tools=None, tool_choice=None, model=GPT_MODEL):\n",
    "    try:\n",
    "        response = client.chat.completions.create(\n",
    "            model=model,\n",
    "            messages=messages,\n",
    "            tools=tools,\n",
    "            tool_choice=tool_choice,\n",
    "        )\n",
    "        return response\n",
    "    except Exception as e:\n",
    "        print(\"Unable to generate ChatCompletion response\")\n",
    "        print(f\"Exception: {e}\")\n",
    "        return e"
   ]
  },
  {
   "cell_type": "code",
   "execution_count": null,
   "metadata": {},
   "outputs": [],
   "source": [
    "class TemperatureUnit(Enum):\n",
    "    CELSIUS = \"celsius\"\n",
    "    FAHRENHEIT = \"fahrenheit\"\n",
    "        \n",
    "\n",
    "@tool\n",
    "def get_current_weather(\n",
    "    location: Annotated[str, Field(description=\"The city and state, e.g. San Francisco, CA\")],\n",
    "    format: Annotated[TemperatureUnit, Field(description=\"The temperature unit to use. Infer this from the user's location.\")]\n",
    ") -> dict:\n",
    "    \"\"\"Get the current weather\"\"\"\n",
    "    return json.dumps({\n",
    "        \"location\": location,\n",
    "        \"temperature\": \"25°C\" if format == TemperatureUnit.CELSIUS else \"77°F\",\n",
    "        \"condition\": \"Sunny\"\n",
    "    })"
   ]
  },
  {
   "cell_type": "code",
   "execution_count": null,
   "metadata": {},
   "outputs": [],
   "source": [
    "print(json.dumps(get_current_weather._schema, indent=4))"
   ]
  },
  {
   "cell_type": "code",
   "execution_count": null,
   "metadata": {},
   "outputs": [],
   "source": [
    "tools = [get_current_weather]\n",
    "tool_dispatch = {tool._schema['function']['name']: tool for tool in tools}\n",
    "messages = [\n",
    "        {\"role\": \"system\", \"content\": \"You fetch the current weather for a user.\"},\n",
    "        {\"role\": \"user\", \"content\": \"What's the weather in New York?\"}\n",
    "    ]\n",
    "response = chat_completion_request(\n",
    "    messages=messages,\n",
    "    tools=[tool._schema for tool in tools],\n",
    "    tool_choice=\"auto\",\n",
    "    model=GPT_MODEL\n",
    ")"
   ]
  },
  {
   "cell_type": "code",
   "execution_count": null,
   "metadata": {},
   "outputs": [],
   "source": [
    "tool_message = response.choices[0].message\n",
    "messages.append(tool_message)\n",
    "tool_call = response.choices[0].message.tool_calls[0]\n",
    "tool_call"
   ]
  },
  {
   "cell_type": "code",
   "execution_count": null,
   "metadata": {},
   "outputs": [],
   "source": [
    "tool_calls = response.choices[0].message.tool_calls\n",
    "if tool_calls:\n",
    "    # There could be multiple tool calls, but for this example we only expect one\n",
    "    tool_call = tool_calls[0]\n",
    "    tool_call_id = tool_call.id\n",
    "    tool_name = tool_call.function.name\n",
    "    tool = tool_dispatch[tool_name]\n",
    "    # This is where the future validation logic code would go\n",
    "    # For now, we just assume the tool call is valid\n",
    "    tool_args = json.loads(tool_call.function.arguments)\n",
    "    tool_response = tool(**tool_args)\n",
    "    tool_message = {\n",
    "        \"role\": \"tool\",\n",
    "        \"content\": tool_response,\n",
    "        \"tool_call_id\": tool_call_id,\n",
    "        \"name\": tool_name,\n",
    "    }\n",
    "    \n",
    " \n",
    "\n",
    "# raw_json_response = response.choices[0].message.tool_calls[0].function.arguments"
   ]
  },
  {
   "cell_type": "code",
   "execution_count": null,
   "metadata": {},
   "outputs": [],
   "source": [
    "\n",
    "tool_message, tool_response"
   ]
  },
  {
   "cell_type": "code",
   "execution_count": null,
   "metadata": {},
   "outputs": [],
   "source": [
    "messages_to_send = messages + [tool_message]\n",
    "messages_to_send"
   ]
  },
  {
   "cell_type": "code",
   "execution_count": null,
   "metadata": {},
   "outputs": [],
   "source": [
    "model_response_with_function_call = client.chat.completions.create(\n",
    "    model=\"gpt-4o\",\n",
    "    messages=messages + [tool_message],\n",
    ")"
   ]
  },
  {
   "cell_type": "code",
   "execution_count": null,
   "metadata": {},
   "outputs": [],
   "source": [
    "model_response_with_function_call.choices[0].message.content"
   ]
  },
  {
   "cell_type": "markdown",
   "metadata": {},
   "source": []
  }
 ],
 "metadata": {
  "kernelspec": {
   "display_name": "venv",
   "language": "python",
   "name": "python3"
  },
  "language_info": {
   "codemirror_mode": {
    "name": "ipython",
    "version": 3
   },
   "file_extension": ".py",
   "mimetype": "text/x-python",
   "name": "python",
   "nbconvert_exporter": "python",
   "pygments_lexer": "ipython3",
   "version": "3.12.3"
  }
 },
 "nbformat": 4,
 "nbformat_minor": 2
}
