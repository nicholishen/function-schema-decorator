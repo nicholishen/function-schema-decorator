{
 "cells": [
  {
   "cell_type": "code",
   "execution_count": 12,
   "metadata": {},
   "outputs": [],
   "source": [
    "from oai_tool import tool\n",
    "from typing import Annotated\n",
    "from pydantic import Field\n",
    "from enum import Enum\n",
    "import json\n",
    "import openai\n",
    "from dotenv import load_dotenv\n",
    "import os\n",
    "\n",
    "load_dotenv()\n",
    "OPENAI_API_KEY = os.getenv(\"OPENAI_API_KEY\") \n",
    "client = openai.OpenAI(api_key=OPENAI_API_KEY)\n",
    "GPT_MODEL = \"gpt-4o\"\n",
    "\n",
    "def chat_completion_request(messages, tools=None, tool_choice=None, model=GPT_MODEL):\n",
    "    try:\n",
    "        response = client.chat.completions.create(\n",
    "            model=model,\n",
    "            messages=messages,\n",
    "            tools=tools,\n",
    "            tool_choice=tool_choice,\n",
    "        )\n",
    "        return response\n",
    "    except Exception as e:\n",
    "        print(\"Unable to generate ChatCompletion response\")\n",
    "        print(f\"Exception: {e}\")\n",
    "        return e"
   ]
  },
  {
   "cell_type": "code",
   "execution_count": 13,
   "metadata": {},
   "outputs": [],
   "source": [
    "class TemperatureUnit(Enum):\n",
    "    CELSIUS = \"celsius\"\n",
    "    FAHRENHEIT = \"fahrenheit\"\n",
    "        \n",
    "\n",
    "@tool\n",
    "def get_current_weather(\n",
    "    location: Annotated[str, Field(description=\"The city and state, e.g. San Francisco, CA\")],\n",
    "    format: Annotated[TemperatureUnit, Field(description=\"The temperature unit to use. Infer this from the user's location.\")]\n",
    ") -> dict:\n",
    "    \"\"\"Get the current weather\"\"\"\n",
    "    return json.dumps({\n",
    "        \"location\": location,\n",
    "        \"temperature\": \"25°C\" if format == TemperatureUnit.CELSIUS else \"77°F\",\n",
    "        \"condition\": \"Sunny\"\n",
    "    })"
   ]
  },
  {
   "cell_type": "code",
   "execution_count": 14,
   "metadata": {},
   "outputs": [
    {
     "name": "stdout",
     "output_type": "stream",
     "text": [
      "{\n",
      "    \"type\": \"function\",\n",
      "    \"function\": {\n",
      "        \"name\": \"get_current_weather\",\n",
      "        \"description\": \"Get the current weather\",\n",
      "        \"parameters\": {\n",
      "            \"type\": \"object\",\n",
      "            \"properties\": {\n",
      "                \"location\": {\n",
      "                    \"type\": \"string\",\n",
      "                    \"description\": \"The city and state, e.g. San Francisco, CA\"\n",
      "                },\n",
      "                \"format\": {\n",
      "                    \"type\": \"string\",\n",
      "                    \"enum\": [\n",
      "                        \"celsius\",\n",
      "                        \"fahrenheit\"\n",
      "                    ],\n",
      "                    \"description\": \"The temperature unit to use. Infer this from the user's location.\"\n",
      "                }\n",
      "            },\n",
      "            \"required\": [\n",
      "                \"location\",\n",
      "                \"format\"\n",
      "            ]\n",
      "        }\n",
      "    }\n",
      "}\n"
     ]
    }
   ],
   "source": [
    "print(json.dumps(get_current_weather._schema, indent=4))"
   ]
  },
  {
   "cell_type": "code",
   "execution_count": 15,
   "metadata": {},
   "outputs": [
    {
     "name": "stderr",
     "output_type": "stream",
     "text": [
      "INFO:httpx:HTTP Request: POST https://api.openai.com/v1/chat/completions \"HTTP/1.1 200 OK\"\n"
     ]
    }
   ],
   "source": [
    "tools = [get_current_weather]\n",
    "tool_dispatch = {tool._schema['function']['name']: tool for tool in tools}\n",
    "messages = [\n",
    "        {\"role\": \"system\", \"content\": \"You fetch the current weather for a user.\"},\n",
    "        {\"role\": \"user\", \"content\": \"What's the weather in New York?\"}\n",
    "    ]\n",
    "response = chat_completion_request(\n",
    "    messages=messages,\n",
    "    tools=[tool._schema for tool in tools],\n",
    "    tool_choice=\"auto\",\n",
    "    model=GPT_MODEL\n",
    ")"
   ]
  },
  {
   "cell_type": "code",
   "execution_count": 16,
   "metadata": {},
   "outputs": [
    {
     "data": {
      "text/plain": [
       "ChatCompletionMessageToolCall(id='call_ivhG4WEQQGakhid25aJHWUxB', function=Function(arguments='{\"location\":\"New York, NY\",\"format\":\"fahrenheit\"}', name='get_current_weather'), type='function')"
      ]
     },
     "execution_count": 16,
     "metadata": {},
     "output_type": "execute_result"
    }
   ],
   "source": [
    "tool_message = response.choices[0].message\n",
    "messages.append(tool_message)\n",
    "tool_call = response.choices[0].message.tool_calls[0]\n",
    "tool_call"
   ]
  },
  {
   "cell_type": "code",
   "execution_count": 17,
   "metadata": {},
   "outputs": [],
   "source": [
    "tool_calls = response.choices[0].message.tool_calls\n",
    "if tool_calls:\n",
    "    # There could be multiple tool calls, but for this example we only expect one\n",
    "    tool_call = tool_calls[0]\n",
    "    tool_call_id = tool_call.id\n",
    "    tool_name = tool_call.function.name\n",
    "    tool = tool_dispatch[tool_name]\n",
    "    # This is where the future validation logic code would go\n",
    "    # For now, we just assume the tool call is valid\n",
    "    tool_args = json.loads(tool_call.function.arguments)\n",
    "    tool_response = tool(**tool_args)\n",
    "    tool_message = {\n",
    "        \"role\": \"tool\",\n",
    "        \"content\": tool_response,\n",
    "        \"tool_call_id\": tool_call_id,\n",
    "        \"name\": tool_name,\n",
    "    }\n",
    "    \n",
    " \n",
    "\n",
    "# raw_json_response = response.choices[0].message.tool_calls[0].function.arguments"
   ]
  },
  {
   "cell_type": "code",
   "execution_count": 18,
   "metadata": {},
   "outputs": [
    {
     "data": {
      "text/plain": [
       "({'role': 'tool',\n",
       "  'content': '{\"location\": \"New York, NY\", \"temperature\": \"77\\\\u00b0F\", \"condition\": \"Sunny\"}',\n",
       "  'tool_call_id': 'call_ivhG4WEQQGakhid25aJHWUxB',\n",
       "  'name': 'get_current_weather'},\n",
       " '{\"location\": \"New York, NY\", \"temperature\": \"77\\\\u00b0F\", \"condition\": \"Sunny\"}')"
      ]
     },
     "execution_count": 18,
     "metadata": {},
     "output_type": "execute_result"
    }
   ],
   "source": [
    "\n",
    "tool_message, tool_response"
   ]
  },
  {
   "cell_type": "code",
   "execution_count": 19,
   "metadata": {},
   "outputs": [
    {
     "data": {
      "text/plain": [
       "[{'role': 'system',\n",
       "  'content': 'You fetch the current weather for a user and write a story about it.'},\n",
       " {'role': 'user', 'content': \"What's the weather in New York?\"},\n",
       " ChatCompletionMessage(content=None, role='assistant', function_call=None, tool_calls=[ChatCompletionMessageToolCall(id='call_ivhG4WEQQGakhid25aJHWUxB', function=Function(arguments='{\"location\":\"New York, NY\",\"format\":\"fahrenheit\"}', name='get_current_weather'), type='function')]),\n",
       " {'role': 'tool',\n",
       "  'content': '{\"location\": \"New York, NY\", \"temperature\": \"77\\\\u00b0F\", \"condition\": \"Sunny\"}',\n",
       "  'tool_call_id': 'call_ivhG4WEQQGakhid25aJHWUxB',\n",
       "  'name': 'get_current_weather'}]"
      ]
     },
     "execution_count": 19,
     "metadata": {},
     "output_type": "execute_result"
    }
   ],
   "source": [
    "messages_to_send = messages + [tool_message]\n",
    "messages_to_send"
   ]
  },
  {
   "cell_type": "code",
   "execution_count": 20,
   "metadata": {},
   "outputs": [
    {
     "name": "stderr",
     "output_type": "stream",
     "text": [
      "INFO:httpx:HTTP Request: POST https://api.openai.com/v1/chat/completions \"HTTP/1.1 200 OK\"\n"
     ]
    }
   ],
   "source": [
    "model_response_with_function_call = client.chat.completions.create(\n",
    "    model=\"gpt-4o\",\n",
    "    messages=messages + [tool_message],\n",
    ")"
   ]
  },
  {
   "cell_type": "code",
   "execution_count": 21,
   "metadata": {},
   "outputs": [
    {
     "data": {
      "text/plain": [
       "\"Once upon a time, in the bustling heart of New York City, it was a perfect day. The sun shone brightly, casting a golden glow over the iconic skyline and making everything it touched seem to sparkle with life. It was 77°F—an ideal temperature for both locals and tourists to enjoy the myriad of activities the city had to offer.\\n\\nIn Central Park, families and friends gathered, spreading checkered blankets and sharing picnic feasts, their laughter echoing among the lush greenery and tranquil ponds. Joggers and cyclists cruised along the park's winding paths, reveling in the warm rays that filtered through the trees.\\n\\nDown in Times Square, the electronic billboards glistened under the radiant sun, creating a dazzling spectacle. Street performers entertained passersby, their energy seemingly fueled by the bright, cloudless sky. In the surrounding avenues, the city's famed yellow cabs zipped by, ferrying passengers to their various urban adventures.\\n\\nHeading towards the Hudson River, the ferry to Staten Island smoothly cut through the shimmering waters. Passengers aboard the vessel admired the Statue of Liberty, its copper form gleaming brilliantly under the sunlight, a symbol of hope and freedom standing proud against the clear blue backdrop.\\n\\nIn the sophisticated lofts and cozy brownstones, terraces and rooftops turned into mini sanctuaries as inhabitants took advantage of the weather. They sipped iced teas and lemonades, engaged in light-hearted conversations, or simply basked in the warmth.\\n\\nIt was one of those days where the weather seemed to bring out the best in New York. The city, always vibrant and full of life, now had an extra spark, a promise of countless possibilities wrapped in the gift of perfect weather. It was a day to explore, to dream, and to be inspired by the endless energy and boundless beauty of New York City.\""
      ]
     },
     "execution_count": 21,
     "metadata": {},
     "output_type": "execute_result"
    }
   ],
   "source": [
    "model_response_with_function_call.choices[0].message.content"
   ]
  },
  {
   "cell_type": "markdown",
   "metadata": {},
   "source": []
  }
 ],
 "metadata": {
  "kernelspec": {
   "display_name": "venv",
   "language": "python",
   "name": "python3"
  },
  "language_info": {
   "codemirror_mode": {
    "name": "ipython",
    "version": 3
   },
   "file_extension": ".py",
   "mimetype": "text/x-python",
   "name": "python",
   "nbconvert_exporter": "python",
   "pygments_lexer": "ipython3",
   "version": "3.12.3"
  }
 },
 "nbformat": 4,
 "nbformat_minor": 2
}
